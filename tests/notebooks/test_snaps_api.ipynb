{
 "cells": [
  {
   "cell_type": "code",
   "execution_count": 1,
   "metadata": {},
   "outputs": [],
   "source": [
    "from snap_store_tui.api.snaps import SnapsAPI"
   ]
  },
  {
   "cell_type": "code",
   "execution_count": 2,
   "metadata": {},
   "outputs": [],
   "source": [
    "api = SnapsAPI(\"https://api.snapcraft.io\", version=\"v2\", headers={\"Snap-Device-Series\": \"16\"})"
   ]
  },
  {
   "cell_type": "code",
   "execution_count": 3,
   "metadata": {},
   "outputs": [],
   "source": [
    "# resp = api.client.get(api.base_url +\"/snaps/categories\")\n",
    "# resp.content\n",
    "resp = api.get_categories()"
   ]
  },
  {
   "cell_type": "code",
   "execution_count": null,
   "metadata": {},
   "outputs": [],
   "source": []
  },
  {
   "cell_type": "code",
   "execution_count": 4,
   "metadata": {},
   "outputs": [
    {
     "data": {
      "text/plain": [
       "20"
      ]
     },
     "execution_count": 4,
     "metadata": {},
     "output_type": "execute_result"
    }
   ],
   "source": [
    "len(resp.categories)"
   ]
  },
  {
   "cell_type": "code",
   "execution_count": 5,
   "metadata": {},
   "outputs": [
    {
     "data": {
      "text/plain": [
       "CategoryResponse(categories=[Category(description=None, media=None, name='art-and-design', summary=None, title=None, type=None, featured=None), Category(description=None, media=None, name='books-and-reference', summary=None, title=None, type=None, featured=None), Category(description=None, media=None, name='development', summary=None, title=None, type=None, featured=None), Category(description=None, media=None, name='devices-and-iot', summary=None, title=None, type=None, featured=None), Category(description=None, media=None, name='education', summary=None, title=None, type=None, featured=None), Category(description=None, media=None, name='entertainment', summary=None, title=None, type=None, featured=None), Category(description=None, media=None, name='featured', summary=None, title=None, type=None, featured=None), Category(description=None, media=None, name='finance', summary=None, title=None, type=None, featured=None), Category(description=None, media=None, name='games', summary=None, title=None, type=None, featured=None), Category(description=None, media=None, name='health-and-fitness', summary=None, title=None, type=None, featured=None), Category(description=None, media=None, name='music-and-audio', summary=None, title=None, type=None, featured=None), Category(description=None, media=None, name='news-and-weather', summary=None, title=None, type=None, featured=None), Category(description=None, media=None, name='personalisation', summary=None, title=None, type=None, featured=None), Category(description=None, media=None, name='photo-and-video', summary=None, title=None, type=None, featured=None), Category(description=None, media=None, name='productivity', summary=None, title=None, type=None, featured=None), Category(description=None, media=None, name='science', summary=None, title=None, type=None, featured=None), Category(description=None, media=None, name='security', summary=None, title=None, type=None, featured=None), Category(description=None, media=None, name='server-and-cloud', summary=None, title=None, type=None, featured=None), Category(description=None, media=None, name='social', summary=None, title=None, type=None, featured=None), Category(description=None, media=None, name='utilities', summary=None, title=None, type=None, featured=None)])"
      ]
     },
     "execution_count": 5,
     "metadata": {},
     "output_type": "execute_result"
    }
   ],
   "source": [
    "api.get_categories(fields=[\"name\",\"summary\"])"
   ]
  },
  {
   "cell_type": "code",
   "execution_count": 6,
   "metadata": {},
   "outputs": [
    {
     "data": {
      "text/plain": [
       "SingleCategoryResponse(category=Category(description=None, media=None, name='games', summary=None, title=None, type=None, featured=None))"
      ]
     },
     "execution_count": 6,
     "metadata": {},
     "output_type": "execute_result"
    }
   ],
   "source": [
    "api.get_category_by_name(name=\"games\")"
   ]
  },
  {
   "cell_type": "code",
   "execution_count": 7,
   "metadata": {},
   "outputs": [],
   "source": [
    "resp = api.find(category=\"games\", fields=[\"title\",\"store-url\",\"website\"])"
   ]
  },
  {
   "cell_type": "code",
   "execution_count": 8,
   "metadata": {},
   "outputs": [
    {
     "data": {
      "text/plain": [
       "[SearchResult(name='0ad', revision=None, snap=Snap(categories=None, contact=None, description=None, license=None, links=None, media=None, prices=None, private=None, publisher=None, store_url='https://snapcraft.io/0ad', summary=None, title='0ad', website='https://code.wildfiregames.com'), snap_id='LPDZP2jWsSizNHoWrJnckPzVuNm8p2Ur'),\n",
       " SearchResult(name='dosbox-x', revision=None, snap=Snap(categories=None, contact=None, description=None, license=None, links=None, media=None, prices=None, private=None, publisher=None, store_url='https://snapcraft.io/dosbox-x', summary=None, title='DOSBox-X', website=None), snap_id='ogcav3zrjqBXdDx8ofgJYMEPSLVRs9ID'),\n",
       " SearchResult(name='openra', revision=None, snap=Snap(categories=None, contact=None, description=None, license=None, links=None, media=None, prices=None, private=None, publisher=None, store_url='https://snapcraft.io/openra', summary=None, title='OpenRA', website='https://www.openra.net/'), snap_id='kY8dJvXQTxZ0keTgiCl1WBGT45o0hYYo'),\n",
       " SearchResult(name='warzone2100', revision=None, snap=Snap(categories=None, contact=None, description=None, license=None, links=None, media=None, prices=None, private=None, publisher=None, store_url='https://snapcraft.io/warzone2100', summary=None, title='Warzone 2100', website='https://wz2100.net/'), snap_id='roFhaRzMw8ted6zNEL8NQnNrkFdIHnHv'),\n",
       " SearchResult(name='retroarch', revision=None, snap=Snap(categories=None, contact=None, description=None, license=None, links=None, media=None, prices=None, private=None, publisher=None, store_url='https://snapcraft.io/retroarch', summary=None, title='retroarch', website='https://www.retroarch.com'), snap_id='7xMPaiM3yBx0npSKPNuTYNhzW4xI9CDk'),\n",
       " SearchResult(name='tmnationsforever', revision=None, snap=Snap(categories=None, contact=None, description=None, license=None, links=None, media=None, prices=None, private=None, publisher=None, store_url='https://snapcraft.io/tmnationsforever', summary=None, title='TrackMania Nations Forever', website='http://trackmaniaforever.com/'), snap_id='SMmdWwqPVDscid2Ragxl3kLgGwfbTN5h'),\n",
       " SearchResult(name='mc-installer', revision=None, snap=Snap(categories=None, contact=None, description=None, license=None, links=None, media=None, prices=None, private=None, publisher=None, store_url='https://snapcraft.io/mc-installer', summary=None, title='Minecraft Installer', website='https://minecraft.net'), snap_id='VcdcPCY35DfyUSApgyijx9oes01cIFKX'),\n",
       " SearchResult(name='ohmygiraffe', revision=None, snap=Snap(categories=None, contact=None, description=None, license=None, links=None, media=None, prices=None, private=None, publisher=None, store_url='https://snapcraft.io/ohmygiraffe', summary=None, title='oh my giraffe', website='https://www.ohmygiraffe.com/'), snap_id='OZ7LxjGo2W76qWvpNpiklbRtCA4u84L3'),\n",
       " SearchResult(name='micropolis', revision=None, snap=Snap(categories=None, contact=None, description=None, license=None, links=None, media=None, prices=None, private=None, publisher=None, store_url='https://snapcraft.io/micropolis', summary=None, title='Micropolis', website='http://wiki.laptop.org/go/Micropolis'), snap_id='ZOQQAuPhsvlJs67CxxJF69Kqc8wRlAtx'),\n",
       " SearchResult(name='quadrapassel', revision=None, snap=Snap(categories=None, contact=None, description=None, license=None, links=None, media=None, prices=None, private=None, publisher=None, store_url='https://snapcraft.io/quadrapassel', summary=None, title='Quadrapassel', website=None), snap_id='bjPxXSBdXzlBa4PnaYGZtofDVAHRlcj7'),\n",
       " SearchResult(name='scummvm', revision=None, snap=Snap(categories=None, contact=None, description=None, license=None, links=None, media=None, prices=None, private=None, publisher=None, store_url='https://snapcraft.io/scummvm', summary=None, title='ScummVM', website='https://www.scummvm.org'), snap_id='wXpsTyUtxXJ6aqnqhWRi0d3WwqzrD1Yv'),\n",
       " SearchResult(name='kfourinline', revision=None, snap=Snap(categories=None, contact=None, description=None, license=None, links=None, media=None, prices=None, private=None, publisher=None, store_url='https://snapcraft.io/kfourinline', summary=None, title='kfourinline', website='https://www.kde.org'), snap_id='3P6ApqNWiq1dti2qLS3TaOPSV3PgEDie'),\n",
       " SearchResult(name='kapman', revision=None, snap=Snap(categories=None, contact=None, description=None, license=None, links=None, media=None, prices=None, private=None, publisher=None, store_url='https://snapcraft.io/kapman', summary=None, title='kapman', website='https://www.kde.org'), snap_id='3PkiDqsHZLBvHsXE2EwPnUO12m7T2q7I'),\n",
       " SearchResult(name='klickety', revision=None, snap=Snap(categories=None, contact=None, description=None, license=None, links=None, media=None, prices=None, private=None, publisher=None, store_url='https://snapcraft.io/klickety', summary=None, title='klickety', website='https://www.kde.org'), snap_id='8jepvBvycet1286l03Zt6J4QzqZnJNQk'),\n",
       " SearchResult(name='bomber', revision=None, snap=Snap(categories=None, contact=None, description=None, license=None, links=None, media=None, prices=None, private=None, publisher=None, store_url='https://snapcraft.io/bomber', summary=None, title='bomber', website='https://www.kde.org'), snap_id='Cron8FQCzFbcO06XDNQmHO4OVGYjl8ny'),\n",
       " SearchResult(name='kmahjongg', revision=None, snap=Snap(categories=None, contact=None, description=None, license=None, links=None, media=None, prices=None, private=None, publisher=None, store_url='https://snapcraft.io/kmahjongg', summary=None, title='kmahjongg', website='https://www.kde.org'), snap_id='DziPMiPr2mtwkp2OkAEbRo7ieBhSCtRv'),\n",
       " SearchResult(name='kspaceduel', revision=None, snap=Snap(categories=None, contact=None, description=None, license=None, links=None, media=None, prices=None, private=None, publisher=None, store_url='https://snapcraft.io/kspaceduel', summary=None, title='kspaceduel', website='https://www.kde.org'), snap_id='FCHgXZiZiHHaevkFQk1kCMYpZqIkWkFX'),\n",
       " SearchResult(name='kanagram', revision=None, snap=Snap(categories=None, contact=None, description=None, license=None, links=None, media=None, prices=None, private=None, publisher=None, store_url='https://snapcraft.io/kanagram', summary=None, title='kanagram', website='https://www.kde.org'), snap_id='Gjdv472Gv0OpkcrIiDUNEsrwAoEQh11Y'),\n",
       " SearchResult(name='granatier', revision=None, snap=Snap(categories=None, contact=None, description=None, license=None, links=None, media=None, prices=None, private=None, publisher=None, store_url='https://snapcraft.io/granatier', summary=None, title='granatier', website='https://www.kde.org'), snap_id='GwqZ7vfFIuBDfb9yaSahwgJfSZeNOrCo'),\n",
       " SearchResult(name='klines', revision=None, snap=Snap(categories=None, contact=None, description=None, license=None, links=None, media=None, prices=None, private=None, publisher=None, store_url='https://snapcraft.io/klines', summary=None, title='klines', website='https://www.kde.org'), snap_id='IlDMiaCIJJVFAAZrHFdrC9DaWBJvQkRc'),\n",
       " SearchResult(name='ksnakeduel', revision=None, snap=Snap(categories=None, contact=None, description=None, license=None, links=None, media=None, prices=None, private=None, publisher=None, store_url='https://snapcraft.io/ksnakeduel', summary=None, title='ksnakeduel', website='https://www.kde.org'), snap_id='KE5bJLalxLcqzdB180uL9ptBHGAd4PkM'),\n",
       " SearchResult(name='o3de', revision=None, snap=Snap(categories=None, contact=None, description=None, license=None, links=None, media=None, prices=None, private=None, publisher=None, store_url='https://snapcraft.io/o3de', summary=None, title='o3de', website='https://www.o3de.org'), snap_id='LEOQ3avEeb35vHYUSjtRImCZEfkFj1PX'),\n",
       " SearchResult(name='kubrick', revision=None, snap=Snap(categories=None, contact=None, description=None, license=None, links=None, media=None, prices=None, private=None, publisher=None, store_url='https://snapcraft.io/kubrick', summary=None, title='kubrick', website='https://www.kde.org'), snap_id='LzTkKbj4QU8qKuewleOSua98EIgCPowx'),\n",
       " SearchResult(name='palapeli', revision=None, snap=Snap(categories=None, contact=None, description=None, license=None, links=None, media=None, prices=None, private=None, publisher=None, store_url='https://snapcraft.io/palapeli', summary=None, title='palapeli', website='https://www.kde.org'), snap_id='MJVllp4hpgPcyCRVJaJDuNY3VS60Yot7'),\n",
       " SearchResult(name='kblackbox', revision=None, snap=Snap(categories=None, contact=None, description=None, license=None, links=None, media=None, prices=None, private=None, publisher=None, store_url='https://snapcraft.io/kblackbox', summary=None, title='kblackbox', website='https://www.kde.org'), snap_id='MyfmqL62UwHEtICMYkgYUD7v2JAGrDxX'),\n",
       " SearchResult(name='steam', revision=None, snap=Snap(categories=None, contact=None, description=None, license=None, links=None, media=None, prices=None, private=None, publisher=None, store_url='https://snapcraft.io/steam', summary=None, title='Steam', website='https://github.com/canonical/steam-snap'), snap_id='NeoQngJVBf2wKC48bxnF2xqmfEFGdVnx'),\n",
       " SearchResult(name='killbots', revision=None, snap=Snap(categories=None, contact=None, description=None, license=None, links=None, media=None, prices=None, private=None, publisher=None, store_url='https://snapcraft.io/killbots', summary=None, title='killbots', website='https://www.kde.org'), snap_id='QMICyVtd5G06bNhII08EeN7qSLSzn2YC'),\n",
       " SearchResult(name='knetwalk', revision=None, snap=Snap(categories=None, contact=None, description=None, license=None, links=None, media=None, prices=None, private=None, publisher=None, store_url='https://snapcraft.io/knetwalk', summary=None, title='knetwalk', website='https://www.kde.org'), snap_id='R9hOCSoK9K1rl2Ax75EksdtYChFhc7NV'),\n",
       " SearchResult(name='kreversi', revision=None, snap=Snap(categories=None, contact=None, description=None, license=None, links=None, media=None, prices=None, private=None, publisher=None, store_url='https://snapcraft.io/kreversi', summary=None, title='kreversi', website='https://www.kde.org'), snap_id='UO1nSsiH1DjS1GbsFA1Z8YqIVUzKY1gM'),\n",
       " SearchResult(name='katomic', revision=None, snap=Snap(categories=None, contact=None, description=None, license=None, links=None, media=None, prices=None, private=None, publisher=None, store_url='https://snapcraft.io/katomic', summary=None, title='katomic', website='https://www.kde.org'), snap_id='UsKniBhsNh6X5FgYYI1vcqFp0EiBlUbj'),\n",
       " SearchResult(name='ksudoku', revision=None, snap=Snap(categories=None, contact=None, description=None, license=None, links=None, media=None, prices=None, private=None, publisher=None, store_url='https://snapcraft.io/ksudoku', summary=None, title='ksudoku', website='https://www.kde.org'), snap_id='cL3Pk5q1BJHJbtdmtRJtGXepy2XsnGQl'),\n",
       " SearchResult(name='kmines', revision=None, snap=Snap(categories=None, contact=None, description=None, license=None, links=None, media=None, prices=None, private=None, publisher=None, store_url='https://snapcraft.io/kmines', summary=None, title='kmines', website='https://www.kde.org'), snap_id='cP8swMAcCbTiPxTkowAYOmmpsHMdHMmQ'),\n",
       " SearchResult(name='kigo', revision=None, snap=Snap(categories=None, contact=None, description=None, license=None, links=None, media=None, prices=None, private=None, publisher=None, store_url='https://snapcraft.io/kigo', summary=None, title='kigo', website='https://www.kde.org'), snap_id='cfX4wEGi1CRdoZw2jHBKbSfNZvaBZzcl'),\n",
       " SearchResult(name='kbreakout', revision=None, snap=Snap(categories=None, contact=None, description=None, license=None, links=None, media=None, prices=None, private=None, publisher=None, store_url='https://snapcraft.io/kbreakout', summary=None, title='kbreakout', website='https://www.kde.org'), snap_id='cwDMpGrIr6CbXFMZxXAZ00kyz4YVtLsc'),\n",
       " SearchResult(name='kgoldrunner', revision=None, snap=Snap(categories=None, contact=None, description=None, license=None, links=None, media=None, prices=None, private=None, publisher=None, store_url='https://snapcraft.io/kgoldrunner', summary=None, title='kgoldrunner', website='https://www.kde.org'), snap_id='daRCw1czYpkvTnIL3acoy8MSwN9LgcWO'),\n",
       " SearchResult(name='knavalbattle', revision=None, snap=Snap(categories=None, contact=None, description=None, license=None, links=None, media=None, prices=None, private=None, publisher=None, store_url='https://snapcraft.io/knavalbattle', summary=None, title='knavalbattle', website='https://www.kde.org'), snap_id='eEdCLhp2rthxqqcEluowO6jMKIXUzX1r'),\n",
       " SearchResult(name='gnome-sudoku', revision=None, snap=Snap(categories=None, contact=None, description=None, license=None, links=None, media=None, prices=None, private=None, publisher=None, store_url='https://snapcraft.io/gnome-sudoku', summary=None, title='GNOME Sudoku', website=None), snap_id='er3qZviGfo5ObSeDoMDyG57IY2m0DN93'),\n",
       " SearchResult(name='picmi', revision=None, snap=Snap(categories=None, contact=None, description=None, license=None, links=None, media=None, prices=None, private=None, publisher=None, store_url='https://snapcraft.io/picmi', summary=None, title='picmi', website='https://www.kde.org'), snap_id='mK9zI24ZxXlQZUNr8UUcH2mzuxjpOpRC'),\n",
       " SearchResult(name='kblocks', revision=None, snap=Snap(categories=None, contact=None, description=None, license=None, links=None, media=None, prices=None, private=None, publisher=None, store_url='https://snapcraft.io/kblocks', summary=None, title='kblocks', website=None), snap_id='pPWaihY2inqOG6jP6FdiYgJoLuKGKp0w'),\n",
       " SearchResult(name='ksirk', revision=None, snap=Snap(categories=None, contact=None, description=None, license=None, links=None, media=None, prices=None, private=None, publisher=None, store_url='https://snapcraft.io/ksirk', summary=None, title='ksirk', website='https://www.kde.org'), snap_id='pqa3s8p7rQ0sZKoV9p0DChFGAoskyM6O'),\n",
       " SearchResult(name='bovo', revision=None, snap=Snap(categories=None, contact=None, description=None, license=None, links=None, media=None, prices=None, private=None, publisher=None, store_url='https://snapcraft.io/bovo', summary=None, title='bovo', website='https://www.kde.org'), snap_id='qcOvn82lbswcfqrQmt76wyPoZylaHrr7'),\n",
       " SearchResult(name='kiriki', revision=None, snap=Snap(categories=None, contact=None, description=None, license=None, links=None, media=None, prices=None, private=None, publisher=None, store_url='https://snapcraft.io/kiriki', summary=None, title='kiriki', website='https://www.kde.org'), snap_id='qnnZGqEv9ahdWBCv47ureKsA2yJXqj3U'),\n",
       " SearchResult(name='ktuberling', revision=None, snap=Snap(categories=None, contact=None, description=None, license=None, links=None, media=None, prices=None, private=None, publisher=None, store_url='https://snapcraft.io/ktuberling', summary=None, title='ktuberling', website='https://www.kde.org'), snap_id='t5f66jjyRO9q2Z0vc8cByzAbPdGNy5ig'),\n",
       " SearchResult(name='ksquares', revision=None, snap=Snap(categories=None, contact=None, description=None, license=None, links=None, media=None, prices=None, private=None, publisher=None, store_url='https://snapcraft.io/ksquares', summary=None, title='ksquares', website='https://www.kde.org'), snap_id='tPqKifDwfqT9vXHGbggt8A4jzYyDJuh4'),\n",
       " SearchResult(name='kjumpingcube', revision=None, snap=Snap(categories=None, contact=None, description=None, license=None, links=None, media=None, prices=None, private=None, publisher=None, store_url='https://snapcraft.io/kjumpingcube', summary=None, title='kjumpingcube', website='https://www.kde.org'), snap_id='v2e1Yx6CB2IXnNs79oqhbQICwE7PToTF'),\n",
       " SearchResult(name='kollision', revision=None, snap=Snap(categories=None, contact=None, description=None, license=None, links=None, media=None, prices=None, private=None, publisher=None, store_url='https://snapcraft.io/kollision', summary=None, title='kollision', website='https://www.kde.org'), snap_id='wJhNjTwvOznhJbuKg6YazKZIlIA4n8Gs'),\n",
       " SearchResult(name='blinken', revision=None, snap=Snap(categories=None, contact=None, description=None, license=None, links=None, media=None, prices=None, private=None, publisher=None, store_url='https://snapcraft.io/blinken', summary=None, title='blinken', website='https://www.kde.org'), snap_id='y5snHH7THfXqdwlZIU3Oe1AXo6m9QnP7'),\n",
       " SearchResult(name='konquest', revision=None, snap=Snap(categories=None, contact=None, description=None, license=None, links=None, media=None, prices=None, private=None, publisher=None, store_url='https://snapcraft.io/konquest', summary=None, title='konquest', website='https://www.kde.org'), snap_id='yo4T0Pqw4cFmuzKLFsJU3y21Qe1VK33G'),\n",
       " SearchResult(name='kbounce', revision=None, snap=Snap(categories=None, contact=None, description=None, license=None, links=None, media=None, prices=None, private=None, publisher=None, store_url='https://snapcraft.io/kbounce', summary=None, title='kbounce', website='https://www.kde.org'), snap_id='yuaUIrneUvq78dTJaoOgFs6KepHcisIr'),\n",
       " SearchResult(name='kshisen', revision=None, snap=Snap(categories=None, contact=None, description=None, license=None, links=None, media=None, prices=None, private=None, publisher=None, store_url='https://snapcraft.io/kshisen', summary=None, title='kshisen', website='https://www.kde.org'), snap_id='zacdbAFrhNP0s8a5jGMnKfVqReYDXOSK'),\n",
       " SearchResult(name='kpat', revision=None, snap=Snap(categories=None, contact=None, description=None, license=None, links=None, media=None, prices=None, private=None, publisher=None, store_url='https://snapcraft.io/kpat', summary=None, title='KPatience', website='https://www.kde.org'), snap_id='znq9z50p0uf4gibTXaoTp0lmDMpt0acw'),\n",
       " SearchResult(name='spectrum-analyser', revision=None, snap=Snap(categories=None, contact=None, description=None, license=None, links=None, media=None, prices=None, private=None, publisher=None, store_url='https://snapcraft.io/spectrum-analyser', summary=None, title='Spectrum Analyser', website='https://colourclash.co.uk/spectrum-analyser/'), snap_id='0oC03GoNUnXh4wBmVxWxHzJvNJckkWIS'),\n",
       " SearchResult(name='azimuth', revision=None, snap=Snap(categories=None, contact=None, description=None, license=None, links=None, media=None, prices=None, private=None, publisher=None, store_url='https://snapcraft.io/azimuth', summary=None, title='azimuth', website='https://github.com/popey/ncspot-snap'), snap_id='0rVgBoeGw5Noxnc0XGWZiy0nfd3yKw2g'),\n",
       " SearchResult(name='space-cadet-pinball', revision=None, snap=Snap(categories=None, contact=None, description=None, license=None, links=None, media=None, prices=None, private=None, publisher=None, store_url='https://snapcraft.io/space-cadet-pinball', summary=None, title='Space Cadet Pinball', website='https://github.com/k4zmu2a/SpaceCadetPinball'), snap_id='2xt6Mhfvlgzgm2aQCH546bpRrK0SssfQ'),\n",
       " SearchResult(name='climate-trail', revision=None, snap=Snap(categories=None, contact=None, description=None, license=None, links=None, media=None, prices=None, private=None, publisher=None, store_url='https://snapcraft.io/climate-trail', summary=None, title='The Climate Trail', website='https://www.theclimatetrail.com'), snap_id='3xxDsHs9oCVQuvf5L8KTJ1BOKtzsbC8e'),\n",
       " SearchResult(name='marsshooter', revision=None, snap=Snap(categories=None, contact=None, description=None, license=None, links=None, media=None, prices=None, private=None, publisher=None, store_url='https://snapcraft.io/marsshooter', summary=None, title='M.A.R.S. - a ridiculous shooter', website='https://github.com/thelaui/M.A.R.S.'), snap_id='5YRF3ZPZpPhlacYTqMVDPWa2rjgUUcGw'),\n",
       " SearchResult(name='the-powder-toy', revision=None, snap=Snap(categories=None, contact=None, description=None, license=None, links=None, media=None, prices=None, private=None, publisher=None, store_url='https://snapcraft.io/the-powder-toy', summary=None, title='The Powder Toy', website='https://powdertoy.co.uk/'), snap_id='6dLZ5MMhxMAekuY82ZTnNvOrD4g1Yz6l'),\n",
       " SearchResult(name='obs-studio', revision=None, snap=Snap(categories=None, contact=None, description=None, license=None, links=None, media=None, prices=None, private=None, publisher=None, store_url='https://snapcraft.io/obs-studio', summary=None, title='OBS Studio (unofficial)', website='https://obsproject.com/'), snap_id='6uLU2MJmBURfLNz4rmL4WT2CmtVULE2u'),\n",
       " SearchResult(name='bombsquad', revision=None, snap=Snap(categories=None, contact=None, description=None, license=None, links=None, media=None, prices=None, private=None, publisher=None, store_url='https://snapcraft.io/bombsquad', summary=None, title='BombSquad', website='https://www.froemling.net/apps/bombsquad'), snap_id='8DRIzp2YkFQVDXPiOoKN3Rq1RAY9p5pw'),\n",
       " SearchResult(name='fab-agon-emulator', revision=None, snap=Snap(categories=None, contact=None, description=None, license=None, links=None, media=None, prices=None, private=None, publisher=None, store_url='https://snapcraft.io/fab-agon-emulator', summary=None, title='Fab Agon Emulator', website=None), snap_id='97WI7PLXjRnVtF1WeTELuBTY0HEK6Z4n'),\n",
       " SearchResult(name='twinejs', revision=None, snap=Snap(categories=None, contact=None, description=None, license=None, links=None, media=None, prices=None, private=None, publisher=None, store_url='https://snapcraft.io/twinejs', summary=None, title='Twine', website=None), snap_id='AEkkvW5E2Dd7PEPavR0sVZtfWUCfZA3y'),\n",
       " SearchResult(name='warble', revision=None, snap=Snap(categories=None, contact=None, description=None, license=None, links=None, media=None, prices=None, private=None, publisher=None, store_url='https://snapcraft.io/warble', summary=None, title='Warble', website='https://github.com/avojak/warble'), snap_id='ArigmYCpR7RdjtSP2jB4H0UxTkG7XRLt'),\n",
       " SearchResult(name='geforcenow', revision=None, snap=Snap(categories=None, contact=None, description=None, license=None, links=None, media=None, prices=None, private=None, publisher=None, store_url='https://snapcraft.io/geforcenow', summary=None, title='GeForce Now', website=None), snap_id='D0GhSSTbJyx4LV9sjd12L0qRaG4nbWDN'),\n",
       " SearchResult(name='mame', revision=None, snap=Snap(categories=None, contact=None, description=None, license=None, links=None, media=None, prices=None, private=None, publisher=None, store_url='https://snapcraft.io/mame', summary=None, title='MAME', website='https://github.com/popey/mamesnap'), snap_id='D2AbMrcy0frlQRhokuBnhAtABqtw8hJb'),\n",
       " SearchResult(name='lightsoff', revision=None, snap=Snap(categories=None, contact=None, description=None, license=None, links=None, media=None, prices=None, private=None, publisher=None, store_url='https://snapcraft.io/lightsoff', summary=None, title='Lightsoff', website=None), snap_id='HDD46PdVUi0mo0ufxCM7MSGLvUE3ogYZ'),\n",
       " SearchResult(name='pioneer', revision=None, snap=Snap(categories=None, contact=None, description=None, license=None, links=None, media=None, prices=None, private=None, publisher=None, store_url='https://snapcraft.io/pioneer', summary=None, title='Pioneer Space Simulator', website='https://pioneerspacesim.net/'), snap_id='HWH7Ft1vsVwHIiXIr9gVnrXuv9EAp6bj'),\n",
       " SearchResult(name='spelunky', revision=None, snap=Snap(categories=None, contact=None, description=None, license=None, links=None, media=None, prices=None, private=None, publisher=None, store_url='https://snapcraft.io/spelunky', summary=None, title='Spelunky', website='https://www.spelunkyworld.com/original.html'), snap_id='HezJbwXZRVwO5jsliYx2WCwelWLkWuBW'),\n",
       " SearchResult(name='gnome-tetravex', revision=None, snap=Snap(categories=None, contact=None, description=None, license=None, links=None, media=None, prices=None, private=None, publisher=None, store_url='https://snapcraft.io/gnome-tetravex', summary=None, title='GNOME Tetravex', website=None), snap_id='Hn5PNcSUrsYbfnanKDn18j606gQ5e6ah'),\n",
       " SearchResult(name='moonlight', revision=None, snap=Snap(categories=None, contact=None, description=None, license=None, links=None, media=None, prices=None, private=None, publisher=None, store_url='https://snapcraft.io/moonlight', summary=None, title='moonlight', website='https://github.com/maxiberta/moonlight-snap'), snap_id='I0j9pDLWv9Sr1reqhjuLJyr8WVhGkAb9'),\n",
       " SearchResult(name='gnome-mines', revision=None, snap=Snap(categories=None, contact=None, description=None, license=None, links=None, media=None, prices=None, private=None, publisher=None, store_url='https://snapcraft.io/gnome-mines', summary=None, title='GNOME Mines', website=None), snap_id='JKBnRgOxVnGweBx1UccglIU9FgTAQ8vo'),\n",
       " SearchResult(name='rota', revision=None, snap=Snap(categories=None, contact=None, description=None, license=None, links=None, media=None, prices=None, private=None, publisher=None, store_url='https://snapcraft.io/rota', summary=None, title='ROTA', website='https://harmonyhoney.github.io/'), snap_id='KXp0nOlSTeMw8VAAP8FizGteujRDvrIw'),\n",
       " SearchResult(name='supertuxkart', revision=None, snap=Snap(categories=None, contact=None, description=None, license=None, links=None, media=None, prices=None, private=None, publisher=None, store_url='https://snapcraft.io/supertuxkart', summary=None, title='SuperTuxKart', website='https://supertuxkart.net/'), snap_id='OYiX2afEAetC4e61gP6ndLs9ieJPUc83'),\n",
       " SearchResult(name='starruler2', revision=None, snap=Snap(categories=None, contact=None, description=None, license=None, links=None, media=None, prices=None, private=None, publisher=None, store_url='https://snapcraft.io/starruler2', summary=None, title='Star Ruler 2', website='https://github.com/BlindMindStudios/StarRuler2-Source'), snap_id='SJa6RDP1LVtHMkJG56zPKTb9bn6mkdhW'),\n",
       " SearchResult(name='duckmarines', revision=None, snap=Snap(categories=None, contact=None, description=None, license=None, links=None, media=None, prices=None, private=None, publisher=None, store_url='https://snapcraft.io/duckmarines', summary=None, title='Duck Marines', website=None), snap_id='SQ19cvYrZwA9Ja1pMUlz7WysuGB0t6EG'),\n",
       " SearchResult(name='gnome-mahjongg', revision=None, snap=Snap(categories=None, contact=None, description=None, license=None, links=None, media=None, prices=None, private=None, publisher=None, store_url='https://snapcraft.io/gnome-mahjongg', summary=None, title='GNOME Mahjongg', website=None), snap_id='TTCyLJv0aeU9CnzOFjvEcMwLhlfFPE5n'),\n",
       " SearchResult(name='linuxtycoon', revision=None, snap=Snap(categories=None, contact=None, description=None, license=None, links=None, media=None, prices=None, private=None, publisher=None, store_url='https://snapcraft.io/linuxtycoon', summary=None, title='Linux Tycoon', website=None), snap_id='Ve3dNnuEQqZAEPRRCKDc0SNDnO90R4FC'),\n",
       " SearchResult(name='dosbox-staging', revision=None, snap=Snap(categories=None, contact=None, description=None, license=None, links=None, media=None, prices=None, private=None, publisher=None, store_url='https://snapcraft.io/dosbox-staging', summary=None, title='DOSBox Staging', website=None), snap_id='VvZfA5Z3IXp0o9INHq6hOjJubxbdx5VL'),\n",
       " SearchResult(name='gnome-klotski', revision=None, snap=Snap(categories=None, contact=None, description=None, license=None, links=None, media=None, prices=None, private=None, publisher=None, store_url='https://snapcraft.io/gnome-klotski', summary=None, title='GNOME Klotski', website=None), snap_id='Y0fpr79u99wS6P1O87P8pp4yoID52IpD'),\n",
       " SearchResult(name='gog-galaxy-wine', revision=None, snap=Snap(categories=None, contact=None, description=None, license=None, links=None, media=None, prices=None, private=None, publisher=None, store_url='https://snapcraft.io/gog-galaxy-wine', summary=None, title='GOG Galaxy', website='https://www.gog.com/'), snap_id='YJst1sxjrla6mhSkiIuGHocdIU3MXgdb'),\n",
       " SearchResult(name='iagno', revision=None, snap=Snap(categories=None, contact=None, description=None, license=None, links=None, media=None, prices=None, private=None, publisher=None, store_url='https://snapcraft.io/iagno', summary=None, title='Iagno', website=None), snap_id='ZIK1TYx4gv1bgopVZ76Sq0r2hF8RpxvU'),\n",
       " SearchResult(name='gnome-robots', revision=None, snap=Snap(categories=None, contact=None, description=None, license=None, links=None, media=None, prices=None, private=None, publisher=None, store_url='https://snapcraft.io/gnome-robots', summary=None, title='GNOME Robots', website=None), snap_id='a2xZfVmFzEj8qDrkEg66T4KBuk3ZeURM'),\n",
       " SearchResult(name='mindustry', revision=None, snap=Snap(categories=None, contact=None, description=None, license=None, links=None, media=None, prices=None, private=None, publisher=None, store_url='https://snapcraft.io/mindustry', summary=None, title='Mindustry', website='https://github.com/popey/mindustry-snap'), snap_id='egcej2jJVH601oFOBVHcC0ah90NQ0D3X'),\n",
       " SearchResult(name='lapin', revision=None, snap=Snap(categories=None, contact=None, description=None, license=None, links=None, media=None, prices=None, private=None, publisher=None, store_url='https://snapcraft.io/lapin', summary=None, title='lapin', website='https://dystroy.org/'), snap_id='ek4r9BV9E6Y9YOv0fQAoQTffTFY0odWP'),\n",
       " SearchResult(name='sdlpop', revision=None, snap=Snap(categories=None, contact=None, description=None, license=None, links=None, media=None, prices=None, private=None, publisher=None, store_url='https://snapcraft.io/sdlpop', summary=None, title='SDLPoP', website=None), snap_id='gmEYI3Be1Sbo0OSVdOrYDOHFuYrnLKvh'),\n",
       " SearchResult(name='flightgear', revision=None, snap=Snap(categories=None, contact=None, description=None, license=None, links=None, media=None, prices=None, private=None, publisher=None, store_url='https://snapcraft.io/flightgear', summary=None, title='FlightGear', website=None), snap_id='hRZCUJ5DCzHhoXJ3raYxkBbnuFBcPqcr'),\n",
       " SearchResult(name='mrrescue', revision=None, snap=Snap(categories=None, contact=None, description=None, license=None, links=None, media=None, prices=None, private=None, publisher=None, store_url='https://snapcraft.io/mrrescue', summary=None, title='Mr. Rescue', website=None), snap_id='lpYUqP4NUoa52wvQGcVEPJrUGOjdHzY4'),\n",
       " SearchResult(name='shattered-pixel-dungeon', revision=None, snap=Snap(categories=None, contact=None, description=None, license=None, links=None, media=None, prices=None, private=None, publisher=None, store_url='https://snapcraft.io/shattered-pixel-dungeon', summary=None, title='Shattered Pixel Dungeon', website='https://shatteredpixel.com/'), snap_id='mMT5CetV8KkEPI0wYNKe5I1CGONDVB0B'),\n",
       " SearchResult(name='opentyrian', revision=None, snap=Snap(categories=None, contact=None, description=None, license=None, links=None, media=None, prices=None, private=None, publisher=None, store_url='https://snapcraft.io/opentyrian', summary=None, title='opentyrian', website='https://github.com/opentyrian/opentyrian'), snap_id='mlAhLdhi5C58JDqmhAyMXVrB59eLB8XG'),\n",
       " SearchResult(name='xonotic', revision=None, snap=Snap(categories=None, contact=None, description=None, license=None, links=None, media=None, prices=None, private=None, publisher=None, store_url='https://snapcraft.io/xonotic', summary=None, title='Xonotic', website='https://www.xonotic.org/'), snap_id='pnfo400U62Md0JANxQwdy7dXvs8HztbI'),\n",
       " SearchResult(name='gnome-taquin', revision=None, snap=Snap(categories=None, contact=None, description=None, license=None, links=None, media=None, prices=None, private=None, publisher=None, store_url='https://snapcraft.io/gnome-taquin', summary=None, title='GNOME Taquin', website=None), snap_id='pyEMtK4uVBGIvCV2B1NHC1sb3c2bL7x6'),\n",
       " SearchResult(name='discord', revision=None, snap=Snap(categories=None, contact=None, description=None, license=None, links=None, media=None, prices=None, private=None, publisher=None, store_url='https://snapcraft.io/discord', summary=None, title='Discord', website='https://discord.com/'), snap_id='qHVefGEBezeuCeSfTND40uoUD6GRw8BO'),\n",
       " SearchResult(name='widelands', revision=None, snap=Snap(categories=None, contact=None, description=None, license=None, links=None, media=None, prices=None, private=None, publisher=None, store_url='https://snapcraft.io/widelands', summary=None, title='Widelands', website=None), snap_id='rBBQ7D7LHN9pNMSu0cRzo8Q03kYExw0R'),\n",
       " SearchResult(name='gnome-chess', revision=None, snap=Snap(categories=None, contact=None, description=None, license=None, links=None, media=None, prices=None, private=None, publisher=None, store_url='https://snapcraft.io/gnome-chess', summary=None, title='GNOME Chess', website=None), snap_id='s2YzDkVuXmlwjjQaoJVr1sDgR8bjweSp'),\n",
       " SearchResult(name='fifteenpuzzle', revision=None, snap=Snap(categories=None, contact=None, description=None, license=None, links=None, media=None, prices=None, private=None, publisher=None, store_url='https://snapcraft.io/fifteenpuzzle', summary=None, title='fifteenpuzzle', website=None), snap_id='t7gVA1LOWMdOS27aH4qUdEXjR5kSGToz'),\n",
       " SearchResult(name='tali', revision=None, snap=Snap(categories=None, contact=None, description=None, license=None, links=None, media=None, prices=None, private=None, publisher=None, store_url='https://snapcraft.io/tali', summary=None, title='Tali', website=None), snap_id='tq6wd9cufrJiBhqpregEXGzRoTHlVdCM'),\n",
       " SearchResult(name='qt-2048-snap', revision=None, snap=Snap(categories=None, contact=None, description=None, license=None, links=None, media=None, prices=None, private=None, publisher=None, store_url='https://snapcraft.io/qt-2048-snap', summary=None, title='2048 - Puzzle game', website='http://github.com/keshavbhatt/2048-qt'), snap_id='u0A4jPMvKq5uknBS7zzFhZKWb4HVbMAS'),\n",
       " SearchResult(name='openttd', revision=None, snap=Snap(categories=None, contact=None, description=None, license=None, links=None, media=None, prices=None, private=None, publisher=None, store_url='https://snapcraft.io/openttd', summary=None, title='OpenTTD', website='https://www.openttd.org/'), snap_id='vIoqO99N39KayGkEhJO4nW6o06tk5SYt'),\n",
       " SearchResult(name='gnome-nibbles', revision=None, snap=Snap(categories=None, contact=None, description=None, license=None, links=None, media=None, prices=None, private=None, publisher=None, store_url='https://snapcraft.io/gnome-nibbles', summary=None, title='GNOME Nibbles', website=None), snap_id='xZprqgoJCVIyTMkqHeDIzCyaHVDkGuUn'),\n",
       " SearchResult(name='dynahack', revision=None, snap=Snap(categories=None, contact=None, description=None, license=None, links=None, media=None, prices=None, private=None, publisher=None, store_url='https://snapcraft.io/dynahack', summary=None, title='DynaHack', website='https://github.com/popey/dynahack-snap/issues'), snap_id='8GxXAN30jQpe7L9VwrL29WfxK6VrWDqz'),\n",
       " SearchResult(name='x16emu', revision=None, snap=Snap(categories=None, contact=None, description=None, license=None, links=None, media=None, prices=None, private=None, publisher=None, store_url='https://snapcraft.io/x16emu', summary=None, title='Commander X16 Emulator', website=None), snap_id='9sAAQxWq3Uy4QygjQ3VzerYjqMLDKiDl')]"
      ]
     },
     "execution_count": 8,
     "metadata": {},
     "output_type": "execute_result"
    }
   ],
   "source": [
    "resp.results"
   ]
  },
  {
   "cell_type": "code",
   "execution_count": null,
   "metadata": {},
   "outputs": [],
   "source": []
  }
 ],
 "metadata": {
  "kernelspec": {
   "display_name": ".venv",
   "language": "python",
   "name": "python3"
  },
  "language_info": {
   "codemirror_mode": {
    "name": "ipython",
    "version": 3
   },
   "file_extension": ".py",
   "mimetype": "text/x-python",
   "name": "python",
   "nbconvert_exporter": "python",
   "pygments_lexer": "ipython3",
   "version": "3.12.6"
  }
 },
 "nbformat": 4,
 "nbformat_minor": 2
}
