{
 "cells": [
  {
   "cell_type": "code",
   "execution_count": 1,
   "metadata": {},
   "outputs": [],
   "source": [
    "from snap_store_tui.api.snaps import SnapsAPI"
   ]
  },
  {
   "cell_type": "code",
   "execution_count": 2,
   "metadata": {},
   "outputs": [],
   "source": [
    "api = SnapsAPI(\"https://api.snapcraft.io\", version=\"v2\")"
   ]
  },
  {
   "cell_type": "code",
   "execution_count": 4,
   "metadata": {},
   "outputs": [],
   "source": [
    "resp = api.get_categories()"
   ]
  },
  {
   "cell_type": "code",
   "execution_count": 6,
   "metadata": {},
   "outputs": [
    {
     "data": {
      "text/plain": [
       "[Category(description=None, media=None, name='art-and-design', summary=None, title=None, type=None),\n",
       " Category(description=None, media=None, name='books-and-reference', summary=None, title=None, type=None),\n",
       " Category(description=None, media=None, name='development', summary=None, title=None, type=None),\n",
       " Category(description=None, media=None, name='devices-and-iot', summary=None, title=None, type=None),\n",
       " Category(description=None, media=None, name='education', summary=None, title=None, type=None),\n",
       " Category(description=None, media=None, name='entertainment', summary=None, title=None, type=None),\n",
       " Category(description=None, media=None, name='featured', summary=None, title=None, type=None),\n",
       " Category(description=None, media=None, name='finance', summary=None, title=None, type=None),\n",
       " Category(description=None, media=None, name='games', summary=None, title=None, type=None),\n",
       " Category(description=None, media=None, name='health-and-fitness', summary=None, title=None, type=None),\n",
       " Category(description=None, media=None, name='music-and-audio', summary=None, title=None, type=None),\n",
       " Category(description=None, media=None, name='news-and-weather', summary=None, title=None, type=None),\n",
       " Category(description=None, media=None, name='personalisation', summary=None, title=None, type=None),\n",
       " Category(description=None, media=None, name='photo-and-video', summary=None, title=None, type=None),\n",
       " Category(description=None, media=None, name='productivity', summary=None, title=None, type=None),\n",
       " Category(description=None, media=None, name='science', summary=None, title=None, type=None),\n",
       " Category(description=None, media=None, name='security', summary=None, title=None, type=None),\n",
       " Category(description=None, media=None, name='server-and-cloud', summary=None, title=None, type=None),\n",
       " Category(description=None, media=None, name='social', summary=None, title=None, type=None),\n",
       " Category(description=None, media=None, name='utilities', summary=None, title=None, type=None)]"
      ]
     },
     "execution_count": 6,
     "metadata": {},
     "output_type": "execute_result"
    }
   ],
   "source": [
    "resp.categories"
   ]
  },
  {
   "cell_type": "code",
   "execution_count": 9,
   "metadata": {},
   "outputs": [
    {
     "data": {
      "text/plain": [
       "CategoryResponse(categories=[Category(description=None, media=None, name='art-and-design', summary=None, title=None, type=None), Category(description=None, media=None, name='books-and-reference', summary=None, title=None, type=None), Category(description=None, media=None, name='development', summary=None, title=None, type=None), Category(description=None, media=None, name='devices-and-iot', summary=None, title=None, type=None), Category(description=None, media=None, name='education', summary=None, title=None, type=None), Category(description=None, media=None, name='entertainment', summary=None, title=None, type=None), Category(description=None, media=None, name='featured', summary=None, title=None, type=None), Category(description=None, media=None, name='finance', summary=None, title=None, type=None), Category(description=None, media=None, name='games', summary=None, title=None, type=None), Category(description=None, media=None, name='health-and-fitness', summary=None, title=None, type=None), Category(description=None, media=None, name='music-and-audio', summary=None, title=None, type=None), Category(description=None, media=None, name='news-and-weather', summary=None, title=None, type=None), Category(description=None, media=None, name='personalisation', summary=None, title=None, type=None), Category(description=None, media=None, name='photo-and-video', summary=None, title=None, type=None), Category(description=None, media=None, name='productivity', summary=None, title=None, type=None), Category(description=None, media=None, name='science', summary=None, title=None, type=None), Category(description=None, media=None, name='security', summary=None, title=None, type=None), Category(description=None, media=None, name='server-and-cloud', summary=None, title=None, type=None), Category(description=None, media=None, name='social', summary=None, title=None, type=None), Category(description=None, media=None, name='utilities', summary=None, title=None, type=None)])"
      ]
     },
     "execution_count": 9,
     "metadata": {},
     "output_type": "execute_result"
    }
   ],
   "source": [
    "api.get_categories(fields=[\"name\",\"summary\"])"
   ]
  },
  {
   "cell_type": "code",
   "execution_count": null,
   "metadata": {},
   "outputs": [],
   "source": []
  }
 ],
 "metadata": {
  "kernelspec": {
   "display_name": ".venv",
   "language": "python",
   "name": "python3"
  },
  "language_info": {
   "codemirror_mode": {
    "name": "ipython",
    "version": 3
   },
   "file_extension": ".py",
   "mimetype": "text/x-python",
   "name": "python",
   "nbconvert_exporter": "python",
   "pygments_lexer": "ipython3",
   "version": "3.12.6"
  }
 },
 "nbformat": 4,
 "nbformat_minor": 2
}
