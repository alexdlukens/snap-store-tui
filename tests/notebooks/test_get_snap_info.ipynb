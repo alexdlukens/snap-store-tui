{
 "cells": [
  {
   "cell_type": "code",
   "execution_count": 1,
   "metadata": {},
   "outputs": [],
   "source": [
    "import json\n",
    "\n",
    "from store_tui.api.snaps import SnapsAPI\n",
    "from snap_python.schemas.store.info import VALID_SNAP_INFO_FIELDS\n",
    "from snap_python.schemas.store.search import SearchResponse\n",
    "\n",
    "api = SnapsAPI(\n",
    "    \"https://api.snapcraft.io\",\n",
    "    version=\"v2\",\n",
    "    headers={\"Snap-Device-Series\": \"16\", \"X-Ubuntu-Series\": \"16\"},\n",
    ")"
   ]
  },
  {
   "cell_type": "code",
   "execution_count": 2,
   "metadata": {},
   "outputs": [],
   "source": [
    "resp = api.client.get(api.base_url + \"/snaps/categories\")\n",
    "# resp.content\n",
    "# resp = api.get_categories()"
   ]
  },
  {
   "cell_type": "code",
   "execution_count": 3,
   "metadata": {},
   "outputs": [
    {
     "ename": "AttributeError",
     "evalue": "'coroutine' object has no attribute 'json'",
     "output_type": "error",
     "traceback": [
      "\u001b[0;31m---------------------------------------------------------------------------\u001b[0m",
      "\u001b[0;31mAttributeError\u001b[0m                            Traceback (most recent call last)",
      "Cell \u001b[0;32mIn[3], line 2\u001b[0m\n\u001b[1;32m      1\u001b[0m \u001b[38;5;28;01mwith\u001b[39;00m \u001b[38;5;28mopen\u001b[39m(\u001b[38;5;124m\"\u001b[39m\u001b[38;5;124mcategories.json\u001b[39m\u001b[38;5;124m\"\u001b[39m, \u001b[38;5;124m\"\u001b[39m\u001b[38;5;124mw\u001b[39m\u001b[38;5;124m\"\u001b[39m) \u001b[38;5;28;01mas\u001b[39;00m f:\n\u001b[0;32m----> 2\u001b[0m     json\u001b[38;5;241m.\u001b[39mdump(\u001b[43mresp\u001b[49m\u001b[38;5;241;43m.\u001b[39;49m\u001b[43mjson\u001b[49m(), f)\n",
      "\u001b[0;31mAttributeError\u001b[0m: 'coroutine' object has no attribute 'json'"
     ]
    }
   ],
   "source": [
    "with open(\"categories.json\", \"w\") as f:\n",
    "    json.dump(resp.json(), f)"
   ]
  },
  {
   "cell_type": "code",
   "execution_count": 9,
   "metadata": {},
   "outputs": [],
   "source": [
    "resp_obj = await api.get_snap_info(\"freecad\", fields=VALID_SNAP_INFO_FIELDS)"
   ]
  },
  {
   "cell_type": "code",
   "execution_count": 6,
   "metadata": {},
   "outputs": [],
   "source": [
    "resp = await api.client.get(api._raw_base_url + \"/v2/snaps/info/freecad\")"
   ]
  },
  {
   "cell_type": "code",
   "execution_count": 11,
   "metadata": {},
   "outputs": [],
   "source": [
    "with open(\"freecad_snap_info_response.json\", \"w\") as f:\n",
    "    f.write(resp_obj.model_dump_json())"
   ]
  },
  {
   "cell_type": "code",
   "execution_count": null,
   "metadata": {},
   "outputs": [
    {
     "data": {
      "text/plain": [
       "Snap(categories=[Category(description=None, media=None, name='art-and-design', summary=None, title=None, type=None, featured=True), Category(description=None, media=None, name='featured', summary=None, title=None, type=None, featured=True), Category(description=None, media=None, name='science', summary=None, title=None, type=None, featured=False)], contact='https://forum.freecad.org/viewtopic.php?f=42&t=68714', description=\"FreeCAD is a parametric 3D modeler. Parametric modeling\\nallows you to easily modify your design by going back into\\nyour model history and changing its parameters. FreeCAD is\\nopen source (LGPL license) and completely modular, allowing\\nfor very advanced extension and customization.\\n\\nFreeCAD is multiplatfom, and reads and writes many open\\nfile formats such as STEP, IGES, STL and others.\\n\\n**Channels**\\n\\nThere are three maintained channels for this snap:\\n\\n- `stable` contains the latest upstream release, i.e. the most recent tagged commit. (**Use this if you don't know what you're doing.**)\\n- `beta` contains automated weekly promotions from `edge`. (**Use this if you want edge with fewer updates.**)\\n- `edge` contains automated (daily) builds from the latest master commit. (**Use this to test new features. Might be unstable.**)\\n\\n**Apps/Commands**\\n\\nThere are multiple apps/commands included in the snap:\\n\\n- `freecad`:               Run FreeCAD\\n- `freecad.cmd`:      Run FreeCAD command line interface\\n- `freecad.pip`:        Install python packages for user (not system-wide).  \\n                       E.g. `freecad.pip install py_slvs` for Assembly3. \\n\\n\\nSide note: There is a FreeCAD experimental branch called 'Link branch' created by a user named 'realthunder' that has become popular. It is available as a Snap package named `freecad-realthunder` (https://snapcraft.io/freecad-realthunder).\", gated_snap_ids=[], license='LGPL-2.0', links={'contact': ['https://forum.freecad.org/viewtopic.php?f=42&t=68714'], 'donations': ['https://wiki.freecad.org/Donate'], 'issues': ['https://github.com/FreeCAD/FreeCAD/issues'], 'source': ['https://github.com/FreeCAD/FreeCAD'], 'website': ['https://www.freecad.org']}, media=[Media(height=308.0, type='banner', url='https://dashboard.snapcraft.io/site_media/appmedia/2020/06/freecad2.png', width=924.0), Media(height=512.0, type='icon', url='https://dashboard.snapcraft.io/site_media/appmedia/2024/09/FreeCAD_Logo.svg.png', width=512.0), Media(height=1681.0, type='screenshot', url='https://dashboard.snapcraft.io/site_media/appmedia/2024/09/bim-1727182759.png', width=2736.0), Media(height=1683.0, type='screenshot', url='https://dashboard.snapcraft.io/site_media/appmedia/2024/09/bim-dark-1727271900.png', width=2736.0), Media(height=1683.0, type='screenshot', url='https://dashboard.snapcraft.io/site_media/appmedia/2024/09/assembly-1727182759.png', width=2736.0), Media(height=1682.0, type='screenshot', url='https://dashboard.snapcraft.io/site_media/appmedia/2024/09/fem-1727182759.png', width=2736.0), Media(height=1683.0, type='screenshot', url='https://dashboard.snapcraft.io/site_media/appmedia/2024/09/partdesign-1727182759.png', width=2736.0)], name='freecad', prices={}, private=False, publisher=Publisher(display_name='FreeCAD', id='nbM3ZPW49wgmlSh0OwD2wYDVLh2iUXth', username='freecad-org', validation='unproven'), snap_id='6gjU50q0lEDaMTtSUxYoVDSmjR5fERpB', store_url='https://snapcraft.io/freecad', summary='An open source parametric 3D CAD modeler', title='FreeCAD', trending=False, unlisted=False, website=None)"
      ]
     },
     "execution_count": 10,
     "metadata": {},
     "output_type": "execute_result"
    }
   ],
   "source": [
    "resp_obj"
   ]
  },
  {
   "cell_type": "code",
   "execution_count": 2,
   "metadata": {},
   "outputs": [],
   "source": [
    "featured_snaps: SearchResponse = await api.get_top_snaps_from_category(\n",
    "    category=\"featured\"\n",
    ")"
   ]
  },
  {
   "cell_type": "code",
   "execution_count": 3,
   "metadata": {},
   "outputs": [],
   "source": [
    "with open(\"featured_snaps.json\", \"w\") as f:\n",
    "    f.write(featured_snaps.model_dump_json(exclude_unset=True, exclude_defaults=True))"
   ]
  },
  {
   "cell_type": "code",
   "execution_count": null,
   "metadata": {},
   "outputs": [],
   "source": []
  }
 ],
 "metadata": {
  "kernelspec": {
   "display_name": ".venv",
   "language": "python",
   "name": "python3"
  },
  "language_info": {
   "codemirror_mode": {
    "name": "ipython",
    "version": 3
   },
   "file_extension": ".py",
   "mimetype": "text/x-python",
   "name": "python",
   "nbconvert_exporter": "python",
   "pygments_lexer": "ipython3",
   "version": "3.12.3"
  }
 },
 "nbformat": 4,
 "nbformat_minor": 2
}
