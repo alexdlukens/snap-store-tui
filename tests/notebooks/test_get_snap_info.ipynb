{
 "cells": [
  {
   "cell_type": "code",
   "execution_count": 8,
   "metadata": {},
   "outputs": [],
   "source": [
    "from snap_store_tui.api.snaps import SnapsAPI\n",
    "import json\n",
    "from snap_store_tui.schemas.snaps.info import VALID_SNAP_INFO_FIELDS\n",
    "api = SnapsAPI(\"https://api.snapcraft.io\", version=\"v2\", headers={\"Snap-Device-Series\": \"16\", \"X-Ubuntu-Series\": \"16\"})"
   ]
  },
  {
   "cell_type": "code",
   "execution_count": 9,
   "metadata": {},
   "outputs": [],
   "source": [
    "# resp = api.client.get(api.base_url +\"/snaps/categories\")\n",
    "# resp.content\n",
    "resp = api.get_categories()"
   ]
  },
  {
   "cell_type": "code",
   "execution_count": 10,
   "metadata": {},
   "outputs": [
    {
     "data": {
      "text/plain": [
       "CategoryResponse(categories=[Category(description=None, media=None, name='art-and-design', summary=None, title=None, type=None, featured=None), Category(description=None, media=None, name='books-and-reference', summary=None, title=None, type=None, featured=None), Category(description=None, media=None, name='development', summary=None, title=None, type=None, featured=None), Category(description=None, media=None, name='devices-and-iot', summary=None, title=None, type=None, featured=None), Category(description=None, media=None, name='education', summary=None, title=None, type=None, featured=None), Category(description=None, media=None, name='entertainment', summary=None, title=None, type=None, featured=None), Category(description=None, media=None, name='featured', summary=None, title=None, type=None, featured=None), Category(description=None, media=None, name='finance', summary=None, title=None, type=None, featured=None), Category(description=None, media=None, name='games', summary=None, title=None, type=None, featured=None), Category(description=None, media=None, name='health-and-fitness', summary=None, title=None, type=None, featured=None), Category(description=None, media=None, name='music-and-audio', summary=None, title=None, type=None, featured=None), Category(description=None, media=None, name='news-and-weather', summary=None, title=None, type=None, featured=None), Category(description=None, media=None, name='personalisation', summary=None, title=None, type=None, featured=None), Category(description=None, media=None, name='photo-and-video', summary=None, title=None, type=None, featured=None), Category(description=None, media=None, name='productivity', summary=None, title=None, type=None, featured=None), Category(description=None, media=None, name='science', summary=None, title=None, type=None, featured=None), Category(description=None, media=None, name='security', summary=None, title=None, type=None, featured=None), Category(description=None, media=None, name='server-and-cloud', summary=None, title=None, type=None, featured=None), Category(description=None, media=None, name='social', summary=None, title=None, type=None, featured=None), Category(description=None, media=None, name='utilities', summary=None, title=None, type=None, featured=None)])"
      ]
     },
     "execution_count": 10,
     "metadata": {},
     "output_type": "execute_result"
    }
   ],
   "source": [
    "resp"
   ]
  },
  {
   "cell_type": "code",
   "execution_count": 13,
   "metadata": {},
   "outputs": [],
   "source": [
    "resp_obj = api.get_snap_info(\"py-rand-tool\", fields=VALID_SNAP_INFO_FIELDS)"
   ]
  },
  {
   "cell_type": "code",
   "execution_count": 14,
   "metadata": {},
   "outputs": [],
   "source": [
    "resp = api.client.get(api._raw_base_url +\"/v2/snaps/info/py-rand-tool\")"
   ]
  },
  {
   "cell_type": "code",
   "execution_count": 15,
   "metadata": {},
   "outputs": [],
   "source": [
    "with open(\"snap_info_response.json\", \"w\") as f:\n",
    "    json.dump(resp.json(), f)"
   ]
  },
  {
   "cell_type": "code",
   "execution_count": 17,
   "metadata": {},
   "outputs": [
    {
     "data": {
      "text/plain": [
       "Snap(categories=[], contact=None, description='This is a test snap for a Python application that generates random numbers.\\nProvides a few arguments to customize the output, including allowing users\\nto seed the random number generator.', gated_snap_ids=[], license='unset', links={}, media=[], name='py-rand-tool', prices={}, private=False, publisher=Publisher(display_name='Alexander Lukens', id='8BowliyePp27bAXZ6jvMrilu4YNchbVq', username='alexdlukens', validation='unproven'), snap_id='CH44S57duWYOAA8jPQ2rZsg6mRL5zZUu', store_url='https://snapcraft.io/py-rand-tool', summary='Python CLI tool for generating random numbers', title='py-rand-tool', trending=False, unlisted=False, website=None)"
      ]
     },
     "execution_count": 17,
     "metadata": {},
     "output_type": "execute_result"
    }
   ],
   "source": [
    "resp_obj.snap"
   ]
  },
  {
   "cell_type": "code",
   "execution_count": null,
   "metadata": {},
   "outputs": [],
   "source": []
  }
 ],
 "metadata": {
  "kernelspec": {
   "display_name": ".venv",
   "language": "python",
   "name": "python3"
  },
  "language_info": {
   "codemirror_mode": {
    "name": "ipython",
    "version": 3
   },
   "file_extension": ".py",
   "mimetype": "text/x-python",
   "name": "python",
   "nbconvert_exporter": "python",
   "pygments_lexer": "ipython3",
   "version": "3.12.7"
  }
 },
 "nbformat": 4,
 "nbformat_minor": 2
}
